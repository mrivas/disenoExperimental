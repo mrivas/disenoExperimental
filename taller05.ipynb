{
 "cells": [
  {
   "cell_type": "markdown",
   "metadata": {},
   "source": [
    "# Prueba de hipótesis\n",
    "\n",
    "## Cálculo de las probabilidades del experimento de Ronald Fisher"
   ]
  },
  {
   "cell_type": "code",
   "execution_count": 24,
   "metadata": {},
   "outputs": [],
   "source": [
    "import numpy as np\n",
    "from matplotlib import pyplot as plt\n",
    "import math"
   ]
  },
  {
   "cell_type": "code",
   "execution_count": 26,
   "metadata": {},
   "outputs": [],
   "source": [
    "# Definamos la función para calular el número de posibles selecciones \n",
    "# de r elementos de un total de n elementos\n",
    "def comb(n,r):\n",
    "    f = math.factorial\n",
    "    return f(n) / f(r) / f(n-r)"
   ]
  },
  {
   "cell_type": "code",
   "execution_count": 25,
   "metadata": {},
   "outputs": [
    {
     "data": {
      "text/plain": [
       "70.0"
      ]
     },
     "execution_count": 25,
     "metadata": {},
     "output_type": "execute_result"
    }
   ],
   "source": [
    "# Por ejemplo el número de combinaciones de 4 tazas generadas a partir de un total de 8 tazas es \n",
    "comb(8,4)"
   ]
  },
  {
   "cell_type": "code",
   "execution_count": 27,
   "metadata": {},
   "outputs": [
    {
     "data": {
      "text/plain": [
       "16.0"
      ]
     },
     "execution_count": 27,
     "metadata": {},
     "output_type": "execute_result"
    }
   ],
   "source": [
    "# El número de combinaciones de 4 tazas dentro de las cuales Muriel ha adivinado correctamente 1 taza\n",
    "\n",
    "N,K,n = 8,4,4\n",
    "k=1\n",
    "comb(K,k)*comb((N-K),(n-k))"
   ]
  },
  {
   "cell_type": "code",
   "execution_count": 29,
   "metadata": {},
   "outputs": [
    {
     "name": "stdout",
     "output_type": "stream",
     "text": [
      "0.22857142857142856\n"
     ]
    }
   ],
   "source": [
    "# Cuál es la probabilidad de que Muriel obtenga este resultado\n",
    "\n",
    "seleccionDemuriel=comb(K,k)*comb((N-K),(n-k))\n",
    "casosTotales = comb(8,4)\n",
    "probabilidad = seleccionDemuriel / casosTotales\n",
    "print(probabilidad)"
   ]
  },
  {
   "cell_type": "markdown",
   "metadata": {},
   "source": [
    "## Ejercicio\n",
    "\n",
    "1. Cálcula el número de combinaciones de 4 tazas en las cuales Muriel ha avidinado correctamente 2 tazas\n",
    "2. Define una función llamda $Muriel(k)$ para hacer lo anterior pero en donde el número de tazas correctamente adviniadas ($k$) es uno de los argumentos de la función.\n",
    "3, Define una función llamada $Fisher(k)$ para cácular la probabilidad de seleccionar $k$ tazas al azar."
   ]
  },
  {
   "cell_type": "markdown",
   "metadata": {},
   "source": [
    "## Utilizando la distribución hipergeométrica"
   ]
  },
  {
   "cell_type": "code",
   "execution_count": 17,
   "metadata": {},
   "outputs": [
    {
     "name": "stdout",
     "output_type": "stream",
     "text": [
      "[2 1 2 ... 2 2 2]\n"
     ]
    }
   ],
   "source": [
    "N,K,n = 8,4,4\n",
    "\n",
    "ngood = 4 # tazas con el té agregado primero\n",
    "nbad  = 4 # tazas con la leche agregada primero\n",
    "nsample = 4 # tazas que Muriel selecciona\n",
    "\n",
    "k = np.random.hypergeometric(ngood, nbad, nsample, 10000)\n",
    "print(k)"
   ]
  },
  {
   "cell_type": "code",
   "execution_count": 18,
   "metadata": {},
   "outputs": [
    {
     "data": {
      "text/plain": [
       "(array([ 145.,    0., 2252.,    0.,    0., 5154.,    0., 2310.,    0.,\n",
       "         139.]),\n",
       " array([0. , 0.4, 0.8, 1.2, 1.6, 2. , 2.4, 2.8, 3.2, 3.6, 4. ]),\n",
       " <a list of 10 Patch objects>)"
      ]
     },
     "execution_count": 18,
     "metadata": {},
     "output_type": "execute_result"
    },
    {
     "data": {
      "image/png": "[encoded data removed]",
      "text/plain": [
       "<Figure size 432x288 with 1 Axes>"
      ]
     },
     "metadata": {
      "needs_background": "light"
     },
     "output_type": "display_data"
    }
   ],
   "source": [
    "hist(k)"
   ]
  },
  {
   "cell_type": "code",
   "execution_count": null,
   "metadata": {},
   "outputs": [],
   "source": []
  }
 ],
 "metadata": {
  "kernelspec": {
   "display_name": "Python 3",
   "language": "python",
   "name": "python3"
  },
  "language_info": {
   "codemirror_mode": {
    "name": "ipython",
    "version": 3
   },
   "file_extension": ".py",
   "mimetype": "text/x-python",
   "name": "python",
   "nbconvert_exporter": "python",
   "pygments_lexer": "ipython3",
   "version": "3.7.6"
  }
 },
 "nbformat": 4,
 "nbformat_minor": 4
}
