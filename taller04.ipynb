{
 "cells": [
  {
   "cell_type": "markdown",
   "metadata": {},
   "source": [
    "Promedio y varianza de una muestra\n",
    "========================\n",
    "\n",
    "Calculemos le promedio y la varianza para varias tamaños muestrales obtenidos usando una distribución normal. Otras distribuciones disponibles [aquí](https://en.wikipedia.org/wiki/List_of_probability_distributions)"
   ]
  },
  {
   "cell_type": "code",
   "execution_count": null,
   "metadata": {},
   "outputs": [],
   "source": [
    "import numpy as np\n",
    "from matplotlib import pyplot as plt\n",
    "\n",
    "# Dada la siguiente muestra de 100000 observaciones\n",
    "x=np.random.normal(10,2,100000)\n",
    "\n",
    "# El promedio de la muestra es \n",
    "x_mean = np.mean(x)\n",
    "# La varianza de la muestra es\n",
    "x_var = np.var(x,ddof=1)\n",
    "\n",
    "# Veamos su histograma\n",
    "plt.hist(x,bins=100)\n",
    "# Imprimir los resultados\n",
    "plt.axvline(x=x_mean,color=\"red\",label=\"Mean\")\n",
    "plt.axvline(x=x_mean+np.sqrt(x_var),color=\"orange\",label=\"u+S\")\n",
    "plt.axvline(x=x_mean-np.sqrt(x_var),color=\"orange\",label=\"u-S\")\n",
    "plt.legend()\n",
    "print(x_mean, x_var)\n"
   ]
  },
  {
   "cell_type": "markdown",
   "metadata": {},
   "source": [
    "Distribución normal estándard\n",
    "=======================\n",
    "\n",
    "Dado  $y \\sim N(\\mu,\\sigma^2)$, si definimos \n",
    "\n",
    "$x=\\frac{y-\\mu}{\\sigma}$. \n",
    "\n",
    "Entonces $x \\sim N(0,1)$\n",
    "\n",
    "$N(0,1)$ es la distribución normal estándard. Veamos ejemplos de como se puede obtener desde una distribución normal regular."
   ]
  },
  {
   "cell_type": "code",
   "execution_count": null,
   "metadata": {},
   "outputs": [],
   "source": [
    "x=np.random.normal(30,5,100000)\n",
    "plt.hist(x,bins=100)\n",
    "\n",
    "u  = np.mean(x)\n",
    "SS = np.var(x,ddof=1)\n",
    "S  = np.sqrt(SS) \n",
    "\n",
    "x_est1 = x - u\n",
    "\n",
    "plt.hist(x_est1,bins=100)\n",
    "\n",
    "x_est2 = (x-u)/S\n",
    "\n",
    "plt.hist(x_est2,bins=100)\n",
    "\n",
    "plt.figure()\n",
    "plt.hist(x_est2,bins=100,color=\"green\")\n",
    "SS = np.var(x_est2,ddof=1)\n",
    "\n",
    "print(SS)"
   ]
  },
  {
   "cell_type": "markdown",
   "metadata": {},
   "source": [
    "Ejercicio 1\n",
    "-------\n",
    "\n",
    "Dada $N(-10,6)$ (una distribución normal con $\\mu=-10$ y $\\sigma^2=6$), haz el histograma de:\n",
    "\n",
    "1. La distribución original, $N(-10,6)$\n",
    "2. La distribución con promedio 0, $N(0,6)$\n",
    "3. La distribución estandard $N(0,1)$"
   ]
  },
  {
   "cell_type": "markdown",
   "metadata": {},
   "source": [
    "Gráfico de la distribución F\n",
    "==========================="
   ]
  },
  {
   "cell_type": "code",
   "execution_count": null,
   "metadata": {},
   "outputs": [],
   "source": [
    "x=np.random.f(3,16,100000)\n",
    "from matplotlib import pyplot as plt\n",
    "plt.hist(x,bins=100)"
   ]
  },
  {
   "cell_type": "code",
   "execution_count": null,
   "metadata": {},
   "outputs": [],
   "source": []
  }
 ],
 "metadata": {
  "kernelspec": {
   "display_name": "Python 3",
   "language": "python",
   "name": "python3"
  },
  "language_info": {
   "codemirror_mode": {
    "name": "ipython",
    "version": 3
   },
   "file_extension": ".py",
   "mimetype": "text/x-python",
   "name": "python",
   "nbconvert_exporter": "python",
   "pygments_lexer": "ipython3",
   "version": "3.7.6"
  }
 },
 "nbformat": 4,
 "nbformat_minor": 4
}
