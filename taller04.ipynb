{
 "cells": [
  {
   "cell_type": "markdown",
   "metadata": {},
   "source": [
    "Promedio y varianza de una muestra\n",
    "========================\n",
    "\n",
    "Calculemos le promedio y la varianza para varias tamaños muestrales obtenidos usando una distribución normal. Otras distribuciones disponibles [aquí](https://en.wikipedia.org/wiki/List_of_probability_distributions)"
   ]
  },
  {
   "cell_type": "code",
   "execution_count": 2,
   "metadata": {},
   "outputs": [
    {
     "name": "stdout",
     "output_type": "stream",
     "text": [
      "10.00841059001727 3.9792629898193064\n"
     ]
    },
    {
     "data": {
      "image/png": "[encoded data removed]",
      "text/plain": [
       "<Figure size 432x288 with 1 Axes>"
      ]
     },
     "metadata": {
      "needs_background": "light"
     },
     "output_type": "display_data"
    }
   ],
   "source": [
    "import numpy as np\n",
    "from matplotlib import pyplot as plt\n",
    "\n",
    "# Dada la siguiente muestra de 100000 observaciones\n",
    "x=np.random.normal(10,2,100000)\n",
    "\n",
    "# El promedio de la muestra es \n",
    "x_mean = np.mean(x)\n",
    "# La varianza de la muestra es\n",
    "x_var = np.var(x,ddof=1)\n",
    "\n",
    "# Veamos su histograma\n",
    "plt.hist(x,bins=100)\n",
    "# Imprimir los resultados\n",
    "plt.axvline(x=x_mean,color=\"red\",label=\"Mean\")\n",
    "plt.axvline(x=x_mean+np.sqrt(x_var),color=\"orange\",label=\"u+S\")\n",
    "plt.axvline(x=x_mean-np.sqrt(x_var),color=\"orange\",label=\"u-S\")\n",
    "plt.legend()\n",
    "print(x_mean, x_var)\n"
   ]
  },
  {
   "cell_type": "markdown",
   "metadata": {},
   "source": [
    "Distribución normal estándard\n",
    "=======================\n",
    "\n",
    "Dado  $y \\sim N(\\mu,\\sigma^2)$, si definimos \n",
    "\n",
    "$x=\\frac{y-\\mu}{\\sigma}$. \n",
    "\n",
    "Entonces $x \\sim N(0,1)$\n",
    "\n",
    "$N(0,1)$ es la distribución normal estándard. Veamos ejemplos de como se puede obtener desde una distribución normal regular."
   ]
  },
  {
   "cell_type": "code",
   "execution_count": 3,
   "metadata": {},
   "outputs": [
    {
     "data": {
      "image/png": "[encoded data removed]",
      "text/plain": [
       "<Figure size 432x288 with 1 Axes>"
      ]
     },
     "metadata": {
      "needs_background": "light"
     },
     "output_type": "display_data"
    }
   ],
   "source": [
    "x=np.random.normal(30,5,100000)\n",
    "plt.hist(x,bins=100)\n",
    "\n",
    "u  = np.mean(x)\n",
    "SS = np.var(x,ddof=1)\n",
    "S  = np.sqrt(SS) \n",
    "\n",
    "\n",
    "\n",
    "\n",
    "\n",
    "# plt.figure()\n",
    "# plt.hist(x_est2,bins=100,color=\"green\")\n",
    "# SS = np.var(x_est2,ddof=1)\n",
    "\n",
    "# print(u,SS,S)"
   ]
  },
  {
   "cell_type": "code",
   "execution_count": 4,
   "metadata": {},
   "outputs": [
    {
     "data": {
      "text/plain": [
       "(array([3.000e+00, 0.000e+00, 1.000e+00, 1.000e+00, 4.000e+00, 1.000e+01,\n",
       "        5.000e+00, 6.000e+00, 7.000e+00, 1.600e+01, 1.300e+01, 1.700e+01,\n",
       "        3.700e+01, 3.200e+01, 4.000e+01, 6.800e+01, 8.500e+01, 1.060e+02,\n",
       "        1.400e+02, 1.640e+02, 1.850e+02, 2.220e+02, 2.660e+02, 3.520e+02,\n",
       "        4.010e+02, 4.830e+02, 5.940e+02, 6.240e+02, 8.090e+02, 8.950e+02,\n",
       "        1.051e+03, 1.126e+03, 1.315e+03, 1.515e+03, 1.639e+03, 1.813e+03,\n",
       "        1.980e+03, 2.185e+03, 2.376e+03, 2.646e+03, 2.681e+03, 2.813e+03,\n",
       "        2.904e+03, 2.966e+03, 3.104e+03, 3.319e+03, 3.369e+03, 3.375e+03,\n",
       "        3.337e+03, 3.329e+03, 3.332e+03, 3.223e+03, 3.256e+03, 3.126e+03,\n",
       "        2.963e+03, 2.943e+03, 2.602e+03, 2.575e+03, 2.423e+03, 2.159e+03,\n",
       "        2.004e+03, 1.949e+03, 1.779e+03, 1.525e+03, 1.355e+03, 1.269e+03,\n",
       "        1.070e+03, 9.520e+02, 8.090e+02, 6.960e+02, 6.230e+02, 5.490e+02,\n",
       "        4.410e+02, 3.520e+02, 3.250e+02, 2.470e+02, 1.910e+02, 1.570e+02,\n",
       "        1.330e+02, 1.290e+02, 8.800e+01, 7.100e+01, 6.700e+01, 4.300e+01,\n",
       "        3.600e+01, 3.400e+01, 2.100e+01, 1.600e+01, 8.000e+00, 3.000e+00,\n",
       "        8.000e+00, 9.000e+00, 4.000e+00, 1.000e+00, 1.000e+00, 1.000e+00,\n",
       "        2.000e+00, 0.000e+00, 0.000e+00, 1.000e+00]),\n",
       " array([-20.63764977, -20.21383617, -19.79002257, -19.36620897,\n",
       "        -18.94239537, -18.51858178, -18.09476818, -17.67095458,\n",
       "        -17.24714098, -16.82332738, -16.39951378, -15.97570018,\n",
       "        -15.55188659, -15.12807299, -14.70425939, -14.28044579,\n",
       "        -13.85663219, -13.43281859, -13.00900499, -12.58519139,\n",
       "        -12.1613778 , -11.7375642 , -11.3137506 , -10.889937  ,\n",
       "        -10.4661234 , -10.0423098 ,  -9.6184962 ,  -9.19468261,\n",
       "         -8.77086901,  -8.34705541,  -7.92324181,  -7.49942821,\n",
       "         -7.07561461,  -6.65180101,  -6.22798742,  -5.80417382,\n",
       "         -5.38036022,  -4.95654662,  -4.53273302,  -4.10891942,\n",
       "         -3.68510582,  -3.26129223,  -2.83747863,  -2.41366503,\n",
       "         -1.98985143,  -1.56603783,  -1.14222423,  -0.71841063,\n",
       "         -0.29459704,   0.12921656,   0.55303016,   0.97684376,\n",
       "          1.40065736,   1.82447096,   2.24828456,   2.67209815,\n",
       "          3.09591175,   3.51972535,   3.94353895,   4.36735255,\n",
       "          4.79116615,   5.21497975,   5.63879334,   6.06260694,\n",
       "          6.48642054,   6.91023414,   7.33404774,   7.75786134,\n",
       "          8.18167494,   8.60548853,   9.02930213,   9.45311573,\n",
       "          9.87692933,  10.30074293,  10.72455653,  11.14837013,\n",
       "         11.57218372,  11.99599732,  12.41981092,  12.84362452,\n",
       "         13.26743812,  13.69125172,  14.11506532,  14.53887892,\n",
       "         14.96269251,  15.38650611,  15.81031971,  16.23413331,\n",
       "         16.65794691,  17.08176051,  17.50557411,  17.9293877 ,\n",
       "         18.3532013 ,  18.7770149 ,  19.2008285 ,  19.6246421 ,\n",
       "         20.0484557 ,  20.4722693 ,  20.89608289,  21.31989649,\n",
       "         21.74371009]),\n",
       " <a list of 100 Patch objects>)"
      ]
     },
     "execution_count": 4,
     "metadata": {},
     "output_type": "execute_result"
    },
    {
     "data": {
      "image/png": "[encoded data removed]",
      "text/plain": [
       "<Figure size 432x288 with 1 Axes>"
      ]
     },
     "metadata": {
      "needs_background": "light"
     },
     "output_type": "display_data"
    }
   ],
   "source": [
    "# traslacion por u\n",
    "\n",
    "x_est1 = x - u\n",
    "\n",
    "plt.hist(x_est1,bins=100)"
   ]
  },
  {
   "cell_type": "code",
   "execution_count": 5,
   "metadata": {},
   "outputs": [
    {
     "data": {
      "text/plain": [
       "(array([3.000e+00, 0.000e+00, 1.000e+00, 1.000e+00, 4.000e+00, 1.000e+01,\n",
       "        5.000e+00, 6.000e+00, 7.000e+00, 1.600e+01, 1.300e+01, 1.700e+01,\n",
       "        3.700e+01, 3.200e+01, 4.000e+01, 6.800e+01, 8.500e+01, 1.060e+02,\n",
       "        1.400e+02, 1.640e+02, 1.850e+02, 2.220e+02, 2.660e+02, 3.520e+02,\n",
       "        4.010e+02, 4.830e+02, 5.940e+02, 6.240e+02, 8.090e+02, 8.950e+02,\n",
       "        1.051e+03, 1.126e+03, 1.315e+03, 1.515e+03, 1.639e+03, 1.813e+03,\n",
       "        1.980e+03, 2.185e+03, 2.376e+03, 2.646e+03, 2.681e+03, 2.813e+03,\n",
       "        2.904e+03, 2.966e+03, 3.104e+03, 3.319e+03, 3.369e+03, 3.375e+03,\n",
       "        3.337e+03, 3.329e+03, 3.332e+03, 3.223e+03, 3.256e+03, 3.126e+03,\n",
       "        2.963e+03, 2.943e+03, 2.602e+03, 2.575e+03, 2.423e+03, 2.159e+03,\n",
       "        2.004e+03, 1.949e+03, 1.779e+03, 1.525e+03, 1.355e+03, 1.269e+03,\n",
       "        1.070e+03, 9.520e+02, 8.090e+02, 6.960e+02, 6.230e+02, 5.490e+02,\n",
       "        4.410e+02, 3.520e+02, 3.250e+02, 2.470e+02, 1.910e+02, 1.570e+02,\n",
       "        1.330e+02, 1.290e+02, 8.800e+01, 7.100e+01, 6.700e+01, 4.300e+01,\n",
       "        3.600e+01, 3.400e+01, 2.100e+01, 1.600e+01, 8.000e+00, 3.000e+00,\n",
       "        8.000e+00, 9.000e+00, 4.000e+00, 1.000e+00, 1.000e+00, 1.000e+00,\n",
       "        2.000e+00, 0.000e+00, 0.000e+00, 1.000e+00]),\n",
       " array([-4.13069176, -4.04586411, -3.96103646, -3.87620881, -3.79138116,\n",
       "        -3.70655351, -3.62172586, -3.53689821, -3.45207056, -3.36724291,\n",
       "        -3.28241526, -3.19758761, -3.11275996, -3.02793231, -2.94310466,\n",
       "        -2.85827701, -2.77344936, -2.68862171, -2.60379405, -2.5189664 ,\n",
       "        -2.43413875, -2.3493111 , -2.26448345, -2.1796558 , -2.09482815,\n",
       "        -2.0100005 , -1.92517285, -1.8403452 , -1.75551755, -1.6706899 ,\n",
       "        -1.58586225, -1.5010346 , -1.41620695, -1.3313793 , -1.24655165,\n",
       "        -1.161724  , -1.07689635, -0.9920687 , -0.90724105, -0.8224134 ,\n",
       "        -0.73758574, -0.65275809, -0.56793044, -0.48310279, -0.39827514,\n",
       "        -0.31344749, -0.22861984, -0.14379219, -0.05896454,  0.02586311,\n",
       "         0.11069076,  0.19551841,  0.28034606,  0.36517371,  0.45000136,\n",
       "         0.53482901,  0.61965666,  0.70448431,  0.78931196,  0.87413961,\n",
       "         0.95896726,  1.04379491,  1.12862257,  1.21345022,  1.29827787,\n",
       "         1.38310552,  1.46793317,  1.55276082,  1.63758847,  1.72241612,\n",
       "         1.80724377,  1.89207142,  1.97689907,  2.06172672,  2.14655437,\n",
       "         2.23138202,  2.31620967,  2.40103732,  2.48586497,  2.57069262,\n",
       "         2.65552027,  2.74034792,  2.82517557,  2.91000322,  2.99483088,\n",
       "         3.07965853,  3.16448618,  3.24931383,  3.33414148,  3.41896913,\n",
       "         3.50379678,  3.58862443,  3.67345208,  3.75827973,  3.84310738,\n",
       "         3.92793503,  4.01276268,  4.09759033,  4.18241798,  4.26724563,\n",
       "         4.35207328]),\n",
       " <a list of 100 Patch objects>)"
      ]
     },
     "execution_count": 5,
     "metadata": {},
     "output_type": "execute_result"
    },
    {
     "data": {
      "image/png": "[encoded data removed]",
      "text/plain": [
       "<Figure size 432x288 with 1 Axes>"
      ]
     },
     "metadata": {
      "needs_background": "light"
     },
     "output_type": "display_data"
    }
   ],
   "source": [
    "# escalamiento por S\n",
    "\n",
    "x_est2 = (x-u)/S\n",
    "\n",
    "plt.hist(x_est2,bins=100)"
   ]
  },
  {
   "cell_type": "markdown",
   "metadata": {},
   "source": [
    "Ejercicio 1\n",
    "-------\n",
    "\n",
    "Verificar que la varianza del distribución es 1.\n",
    "\n",
    "Ejercicio 2\n",
    "------------\n",
    "\n",
    "\n",
    "Dada $N(-10,6)$ (una distribución normal con $\\mu=-10$ y $\\sigma^2=6$), haz el histograma de:\n",
    "\n",
    "1. La distribución original, $N(-10,6)$\n",
    "2. La distribución con promedio 0, $N(0,6)$\n",
    "3. La distribución estandard $N(0,1)$"
   ]
  },
  {
   "cell_type": "markdown",
   "metadata": {},
   "source": [
    "Gráfico de la distribución F\n",
    "==========================="
   ]
  },
  {
   "cell_type": "code",
   "execution_count": null,
   "metadata": {},
   "outputs": [],
   "source": [
    "x=np.random.f(3,16,100000)\n",
    "from matplotlib import pyplot as plt\n",
    "plt.hist(x,bins=100)"
   ]
  },
  {
   "cell_type": "code",
   "execution_count": null,
   "metadata": {},
   "outputs": [],
   "source": []
  }
 ],
 "metadata": {
  "kernelspec": {
   "display_name": "Python 3",
   "language": "python",
   "name": "python3"
  },
  "language_info": {
   "codemirror_mode": {
    "name": "ipython",
    "version": 3
   },
   "file_extension": ".py",
   "mimetype": "text/x-python",
   "name": "python",
   "nbconvert_exporter": "python",
   "pygments_lexer": "ipython3",
   "version": "3.7.6"
  }
 },
 "nbformat": 4,
 "nbformat_minor": 4
}
